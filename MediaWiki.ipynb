{
 "cells": [
  {
   "cell_type": "markdown",
   "id": "25fa23ed-f03d-4101-94ac-434d3f446af8",
   "metadata": {},
   "source": [
    "https://github.com/nitika1989/mediawiki-banner-tool\n"
   ]
  }
 ],
 "metadata": {
  "kernelspec": {
   "display_name": "Python 3 (ipykernel)",
   "language": "python",
   "name": "python3"
  },
  "language_info": {
   "codemirror_mode": {
    "name": "ipython",
    "version": 3
   },
   "file_extension": ".py",
   "mimetype": "text/x-python",
   "name": "python",
   "nbconvert_exporter": "python",
   "pygments_lexer": "ipython3",
   "version": "3.12.3"
  }
 },
 "nbformat": 4,
 "nbformat_minor": 5
}
